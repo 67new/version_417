{
  "nbformat": 4,
  "nbformat_minor": 0,
  "metadata": {
    "colab": {
      "provenance": []
    },
    "kernelspec": {
      "name": "python3",
      "display_name": "Python 3"
    },
    "language_info": {
      "name": "python"
    }
  },
  "cells": [
    {
      "cell_type": "code",
      "execution_count": null,
      "metadata": {
        "id": "hFrFTz_FDHSW"
      },
      "outputs": [],
      "source": []
    },
    {
      "cell_type": "markdown",
      "source": [
        "**การทำ CI/CD**"
      ],
      "metadata": {
        "id": "iT_f-QUIFnXr"
      }
    },
    {
      "cell_type": "markdown",
      "source": [
        "**1. กำหนด publicPath ใน quasar.config.js**"
      ],
      "metadata": {
        "id": "SMZwjWT7INkh"
      }
    },
    {
      "cell_type": "markdown",
      "source": [
        "**Troubleshoot Quasar SPA Deployment**\n- Quasar SPAs require specific configurations for GitHub Pages due to client-side routing and asset paths. A blank page often indicates issues with file paths or routing.\n\n**Base URL Configuration:**\n- Quasar uses the publicPath to determine where assets are loaded. For GitHub Pages, publicPath should account for the repository name (/VersionControl1/).\nIn your Quasar project, check the **quasar.config.js** file (or quasar.conf.js in older versions). Ensure the build.publicPath is set correctly:"
      ],
      "metadata": {
        "id": "ZPb0M_WSHA0w"
      }
    },
    {
      "cell_type": "markdown",
      "source": [
        "![image.png](docs/images/cicd-img-1.png)"
      ],
      "metadata": {
        "id": "_NGEhxsJH8Gl"
      }
    },
    {
      "cell_type": "markdown",
      "source": [
        "- If you’re not using a custom domain, the publicPath should match the GitHub Pages path (e.g., /VersionControl1/ for https://rattyc.github.io/versioncontrol/).\n- If publicPath is set to / (default), assets may fail to load because GitHub Pages expects /VersionControl1/ as the base path."
      ],
      "metadata": {
        "id": "kE3AtubCH3cX"
      }
    },
    {
      "cell_type": "markdown",
      "source": [
        "**2. ทำการสร้างไฟล์สำหรับการ Deploy**"
      ],
      "metadata": {
        "id": "oGDIngq-GhSk"
      }
    },
    {
      "cell_type": "markdown",
      "source": [
        "![image.png](docs/images/cicd-img-2.png)"
      ],
      "metadata": {
        "id": "IkEud1mWFXm0"
      }
    },
    {
      "cell_type": "code",
      "source": [
        "# สร้าง directory\n",
        ".github/workflows/deploy.yml"
      ],
      "metadata": {
        "id": "BEi5kjuhFucJ"
      },
      "execution_count": null,
      "outputs": []
    },
    {
      "cell_type": "code",
      "source": [
        "# deploy.yml\n",
        "name: CI/CD Pipeline for Quasar\n",
        "on:\n",
        "  push:\n",
        "    branches: [ \"master\", \"main\" ]\n",
        "  pull_request:\n",
        "    branches: [ \"master\", \"main\" ]\n",
        "jobs:\n",
        "  build-deploy:\n",
        "    runs-on: ubuntu-latest\n",
        "    steps:\n",
        "      - uses: actions/checkout@v4\n",
        "\n",
        "      - name: Cache node_modules\n",
        "        uses: actions/cache@v3\n",
        "        with:\n",
        "          path: ~/.npm\n",
        "          key: ${{ runner.os }}-node-${{ hashFiles('**/package-lock.json') }}\n",
        "          restore-keys: |\n",
        "            ${{ runner.os }}-node-\n",
        "\n",
        "      - uses: actions/setup-node@v4\n",
        "        with:\n",
        "          node-version: '18'\n",
        "\n",
        "      - name: Install and Build\n",
        "        run: |\n",
        "          npm install\n",
        "          npx quasar build\n",
        "\n",
        "      - name: Copy index.html to 404.html\n",
        "        if: github.ref == 'refs/heads/master'\n",
        "        run: cp dist/spa/index.html dist/spa/404.html\n",
        "\n",
        "      - name: Deploy to GitHub Pages\n",
        "        if: github.ref == 'refs/heads/master'\n",
        "        uses: peaceiris/actions-gh-pages@v3\n",
        "        with:\n",
        "          github_token: ${{ secrets.GITHUB_TOKEN }}\n",
        "          publish_dir: ./dist/spa\n",
        "          publish_branch: gh-pages"
      ],
      "metadata": {
        "id": "YNy0hbubGECx"
      },
      "execution_count": null,
      "outputs": []
    },
    {
      "cell_type": "markdown",
      "source": [
        "**3. เข้าสู่เมนูชื่อว่า Actions**"
      ],
      "metadata": {
        "id": "0K3DjslcGZr_"
      }
    },
    {
      "cell_type": "markdown",
      "source": [
        "![image.png](docs/images/cicd-img-3.png)"
      ],
      "metadata": {
        "id": "zkjrzE5hGMaV"
      }
    },
    {
      "cell_type": "markdown",
      "source": [
        "**4. กำหนดสิทธิในการเขียนและการอ่าน**"
      ],
      "metadata": {
        "id": "wtukxxW6Gsz3"
      }
    },
    {
      "cell_type": "markdown",
      "source": [
        "**Verify Repository Permissions:**\nEnsure the GitHub Actions bot has write access to the repository. If the repository is private or has restricted permissions, the default **GITHUB_TOKEN **may not have sufficient access.\nGo to your repository on GitHub, navigate to **Settings > Actions > Genera**l, and check the Workflow permissions section. Ensure **\"Read and write permissions\"** is selected for GitHub Actions."
      ],
      "metadata": {
        "id": "Dp9LCXEiD_V9"
      }
    },
    {
      "cell_type": "markdown",
      "source": [
        "![image.png](docs/images/cicd-img-4.png)"
      ],
      "metadata": {
        "id": "37Bd3ZqYDoNY"
      }
    },
    {
      "cell_type": "markdown",
      "source": [
        "![image.png](docs/images/cicd-img-5.png)"
      ],
      "metadata": {
        "id": "n9PUU45IDsC-"
      }
    },
    {
      "cell_type": "markdown",
      "source": [
        "**5. กำหนดตำแหน่งในการเข้าถึงไฟล์ Pages**"
      ],
      "metadata": {
        "id": "iLNOXu7LG2nD"
      }
    },
    {
      "cell_type": "markdown",
      "source": [
        "**Enable GitHub Pages:**\n- Go to your repository on GitHub.\n- Navigate to **Settings > Pages**.\n- Under Source, select the gh-pages branch and choose the root directory (/ or the folder specified in destination_dir if you set it in the workflow, e.g., ./).\n- Save the settings. GitHub Pages will generate a URL for your site, typically in the format:\nhttps://rattyc.github.io/versioncontrol/"
      ],
      "metadata": {
        "id": "zbEnbXo2Eqqk"
      }
    },
    {
      "cell_type": "markdown",
      "source": [
        "![image.png](docs/images/cicd-img-6.png)"
      ],
      "metadata": {
        "id": "BMrIvthMFJfL"
      }
    }
  ]
}